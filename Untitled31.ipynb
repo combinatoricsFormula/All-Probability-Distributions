{
  "nbformat": 4,
  "nbformat_minor": 0,
  "metadata": {
    "colab": {
      "private_outputs": true,
      "provenance": [],
      "authorship_tag": "ABX9TyMj48pKon2/7rgJpDqTgqei",
      "include_colab_link": true
    },
    "kernelspec": {
      "name": "python3",
      "display_name": "Python 3"
    },
    "language_info": {
      "name": "python"
    }
  },
  "cells": [
    {
      "cell_type": "markdown",
      "metadata": {
        "id": "view-in-github",
        "colab_type": "text"
      },
      "source": [
        "<a href=\"https://colab.research.google.com/github/combinatoricsFormula/All-Probability-Distributions/blob/main/Untitled31.ipynb\" target=\"_parent\"><img src=\"https://colab.research.google.com/assets/colab-badge.svg\" alt=\"Open In Colab\"/></a>"
      ]
    },
    {
      "cell_type": "code",
      "execution_count": null,
      "metadata": {
        "id": "BKws25_lU_Cb"
      },
      "outputs": [],
      "source": [
        "import yfinance as yf\n",
        "import pandas as pd\n",
        "import matplotlib.pyplot as plt\n",
        "\n",
        "\n",
        "#Question 1 - Extracting Tesla Stock Data Using yfinance - 2 Points\n",
        "Tesla_data = yf.Ticker(\"TSLA\")\n",
        "Tesla_stock_data = Tesla_data.history(period=\"max\")\n",
        "Tesla_stock_data.reset_index(inplace=True)\n",
        "df = pd.DataFrame(Tesla_stock_data)\n",
        "print(df.head())\n",
        "#Question 2 - Extracting Tesla Revenue Data Using Webscraping - 1 Points\n",
        "Tesla_revenue_data = Tesla_data.financials\n",
        "Tesla_revenue_data.reset_index(inplace=True)\n",
        "df1 = pd.DataFrame(Tesla_revenue_data)\n",
        "print(df1.tail())\n",
        "#Question 3 - Extracting GameStop Stock Data Using yfinance - 2 Points\n",
        "GameStop_data = yf.Ticker(\"GME\")\n",
        "GameStop_stock_data = GameStop_data.history(period=\"max\")\n",
        "GameStop_stock_data.reset_index(inplace=True)\n",
        "df = pd.DataFrame(GameStop_stock_data)\n",
        "print(df.head())\n",
        "\n",
        "#Question 4 - Extracting GameStop Revenue Data Using Webscraping - 1 Points\n",
        "GameStop_revenue_data = GameStop_data.financials\n",
        "GameStop_revenue_data.reset_index(inplace=True)\n",
        "df2 = pd.DataFrame(GameStop_revenue_data)\n",
        "print(df2.tail())\n",
        "#Question 5 - Tesla Stock and Revenue Dashboard - 2 Points\n",
        "Tesla_dashboard = {\n",
        "    \"Stock Data\": Tesla_stock_data,\n",
        "    \"Revenue Data\": Tesla_revenue_data\n",
        "}\n",
        "print(Tesla_dashboard)\n",
        "#Question 6 - GameStop Stock and Revenue Dashboard- 2 Points\n",
        "GameStop_dashboard = {\n",
        "    \"Stock Data\": GameStop_stock_data,\n",
        "    \"Revenue Data\": GameStop_revenue_data\n",
        "}\n",
        "print(GameStop_dashboard)\n",
        "#Question 7 - Sharing your Assignment Notebook - 2 Points\n",
        "\n",
        "def makegraph(stock_data, revenue_data, name):\n",
        "  plt.plot(stock_data[\"Date\"], stock_data[\"Close\"])\n",
        "  plt.title(name)\n",
        "  plt.show()\n",
        "makegraph(Tesla_stock_data, Tesla_revenue_data, 'Tesla')\n",
        "makegraph(GameStop_stock_data, GameStop_revenue_data, 'GameStop')"
      ]
    }
  ]
}